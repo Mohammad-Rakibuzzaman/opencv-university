{
  "nbformat": 4,
  "nbformat_minor": 0,
  "metadata": {
    "colab": {
      "provenance": [],
      "gpuType": "T4",
      "authorship_tag": "ABX9TyNRzUdjjlAOLSLnoZ8gCBSd",
      "include_colab_link": true
    },
    "kernelspec": {
      "name": "python3",
      "display_name": "Python 3"
    },
    "language_info": {
      "name": "python"
    },
    "accelerator": "GPU"
  },
  "cells": [
    {
      "cell_type": "markdown",
      "metadata": {
        "id": "view-in-github",
        "colab_type": "text"
      },
      "source": [
        "<a href=\"https://colab.research.google.com/github/Mohammad-Rakibuzzaman/opencv-university/blob/main/basics_hands_on.ipynb\" target=\"_parent\"><img src=\"https://colab.research.google.com/assets/colab-badge.svg\" alt=\"Open In Colab\"/></a>"
      ]
    },
    {
      "cell_type": "code",
      "execution_count": null,
      "metadata": {
        "id": "nVp_m8srgYHZ",
        "colab": {
          "base_uri": "https://localhost:8080/"
        },
        "outputId": "15148e5d-1b8a-44de-be00-89769bb22d97"
      },
      "outputs": [
        {
          "output_type": "stream",
          "name": "stdout",
          "text": [
            "hello world\n"
          ]
        }
      ],
      "source": [
        "print(\"hello world\")"
      ]
    },
    {
      "cell_type": "code",
      "source": [
        "import this"
      ],
      "metadata": {
        "colab": {
          "base_uri": "https://localhost:8080/"
        },
        "id": "mXRopQ1UhZa_",
        "outputId": "ca7d5b1f-dd87-4299-84cb-192fcbd85219"
      },
      "execution_count": null,
      "outputs": [
        {
          "output_type": "stream",
          "name": "stdout",
          "text": [
            "The Zen of Python, by Tim Peters\n",
            "\n",
            "Beautiful is better than ugly.\n",
            "Explicit is better than implicit.\n",
            "Simple is better than complex.\n",
            "Complex is better than complicated.\n",
            "Flat is better than nested.\n",
            "Sparse is better than dense.\n",
            "Readability counts.\n",
            "Special cases aren't special enough to break the rules.\n",
            "Although practicality beats purity.\n",
            "Errors should never pass silently.\n",
            "Unless explicitly silenced.\n",
            "In the face of ambiguity, refuse the temptation to guess.\n",
            "There should be one-- and preferably only one --obvious way to do it.\n",
            "Although that way may not be obvious at first unless you're Dutch.\n",
            "Now is better than never.\n",
            "Although never is often better than *right* now.\n",
            "If the implementation is hard to explain, it's a bad idea.\n",
            "If the implementation is easy to explain, it may be a good idea.\n",
            "Namespaces are one honking great idea -- let's do more of those!\n"
          ]
        }
      ]
    },
    {
      "cell_type": "code",
      "source": [
        "statusOfmachine = \"off\""
      ],
      "metadata": {
        "id": "xdE3AROrhom2"
      },
      "execution_count": null,
      "outputs": []
    },
    {
      "cell_type": "code",
      "source": [
        "a = 400"
      ],
      "metadata": {
        "id": "VkB9xTnXidRO"
      },
      "execution_count": null,
      "outputs": []
    },
    {
      "cell_type": "code",
      "source": [
        "a = \"400\""
      ],
      "metadata": {
        "id": "JTiMZ9hEieSe"
      },
      "execution_count": null,
      "outputs": []
    },
    {
      "cell_type": "code",
      "source": [
        "id(a)"
      ],
      "metadata": {
        "colab": {
          "base_uri": "https://localhost:8080/"
        },
        "id": "l1ZcHjR0ifWu",
        "outputId": "e6b56e5a-9ccb-48fa-d76d-d7fa50a7e227"
      },
      "execution_count": null,
      "outputs": [
        {
          "output_type": "execute_result",
          "data": {
            "text/plain": [
              "138195047263280"
            ]
          },
          "metadata": {},
          "execution_count": 6
        }
      ]
    },
    {
      "cell_type": "code",
      "source": [
        "type(a)"
      ],
      "metadata": {
        "colab": {
          "base_uri": "https://localhost:8080/"
        },
        "id": "JudT2z_KirAm",
        "outputId": "90ce071d-aa48-41ac-9f5a-32ed801644f6"
      },
      "execution_count": null,
      "outputs": [
        {
          "output_type": "execute_result",
          "data": {
            "text/plain": [
              "str"
            ]
          },
          "metadata": {},
          "execution_count": 7
        }
      ]
    },
    {
      "cell_type": "code",
      "source": [
        "a"
      ],
      "metadata": {
        "colab": {
          "base_uri": "https://localhost:8080/",
          "height": 35
        },
        "id": "oTAYRSYCisJe",
        "outputId": "9efa48f2-f2d4-4e6e-fbaf-d4208eed8e32"
      },
      "execution_count": null,
      "outputs": [
        {
          "output_type": "execute_result",
          "data": {
            "text/plain": [
              "'400'"
            ],
            "application/vnd.google.colaboratory.intrinsic+json": {
              "type": "string"
            }
          },
          "metadata": {},
          "execution_count": 8
        }
      ]
    },
    {
      "cell_type": "code",
      "source": [
        "import sys\n",
        "sys.getrefcount(a)"
      ],
      "metadata": {
        "colab": {
          "base_uri": "https://localhost:8080/"
        },
        "id": "9o6gigSIitu2",
        "outputId": "3186c4f4-e092-44e1-af34-2a84f97b6591"
      },
      "execution_count": null,
      "outputs": [
        {
          "output_type": "execute_result",
          "data": {
            "text/plain": [
              "13"
            ]
          },
          "metadata": {},
          "execution_count": 10
        }
      ]
    },
    {
      "cell_type": "code",
      "source": [
        "x = \"mybook\""
      ],
      "metadata": {
        "id": "C37muQr9jUwf"
      },
      "execution_count": null,
      "outputs": []
    },
    {
      "cell_type": "code",
      "source": [
        "x"
      ],
      "metadata": {
        "colab": {
          "base_uri": "https://localhost:8080/",
          "height": 35
        },
        "id": "cZ549rRypPU4",
        "outputId": "e757ba4f-b3bf-4bcc-b867-98f649a8b7ea"
      },
      "execution_count": null,
      "outputs": [
        {
          "output_type": "execute_result",
          "data": {
            "text/plain": [
              "'mybook'"
            ],
            "application/vnd.google.colaboratory.intrinsic+json": {
              "type": "string"
            }
          },
          "metadata": {},
          "execution_count": 12
        }
      ]
    },
    {
      "cell_type": "code",
      "source": [],
      "metadata": {
        "id": "SFnY6TjypPr_"
      },
      "execution_count": null,
      "outputs": []
    },
    {
      "cell_type": "markdown",
      "source": [
        "Literals\n"
      ],
      "metadata": {
        "id": "uxt47zEKmUZD"
      }
    },
    {
      "cell_type": "code",
      "source": [
        "name = 'matt \\N{GRINNING FACE}' #literal\n",
        "age_string = str(27) #using str constructor\n",
        "name"
      ],
      "metadata": {
        "colab": {
          "base_uri": "https://localhost:8080/",
          "height": 35
        },
        "id": "bqnONlfJmVRB",
        "outputId": "9a67407b-8d10-4984-9092-ad144dd3714a"
      },
      "execution_count": null,
      "outputs": [
        {
          "output_type": "execute_result",
          "data": {
            "text/plain": [
              "'matt 😀'"
            ],
            "application/vnd.google.colaboratory.intrinsic+json": {
              "type": "string"
            }
          },
          "metadata": {},
          "execution_count": 2
        }
      ]
    },
    {
      "cell_type": "code",
      "source": [
        "# constructor in parens\n",
        "age = 27 #integer literal (int)\n",
        "cost = 5.6  #float literal (float)\n",
        "loc = 1 + 0j # complex literal (complex)"
      ],
      "metadata": {
        "id": "wWb5hCnmmo5r"
      },
      "execution_count": null,
      "outputs": []
    },
    {
      "cell_type": "code",
      "source": [
        "# list literal\n",
        "names = [name, 'shizukaaa', 'alfred nobel']\n",
        "characters = list('aeiou') #constructor"
      ],
      "metadata": {
        "id": "N-kfxziAnZfD"
      },
      "execution_count": null,
      "outputs": []
    },
    {
      "cell_type": "code",
      "source": [
        "# constructor is different than literal\n",
        "characters = list('aeiou')\n",
        "characters"
      ],
      "metadata": {
        "colab": {
          "base_uri": "https://localhost:8080/"
        },
        "id": "FwCMFVXwnvb6",
        "outputId": "35844123-b5c1-4103-ffd2-11a0ae181099"
      },
      "execution_count": null,
      "outputs": [
        {
          "output_type": "execute_result",
          "data": {
            "text/plain": [
              "['a', 'e', 'i', 'o', 'u']"
            ]
          },
          "metadata": {},
          "execution_count": 5
        }
      ]
    },
    {
      "cell_type": "code",
      "source": [
        "['aeiou']"
      ],
      "metadata": {
        "colab": {
          "base_uri": "https://localhost:8080/"
        },
        "id": "2mQGa028nvXZ",
        "outputId": "1f1d9ca8-9d57-4bb2-efe7-2294cd3003f7"
      },
      "execution_count": null,
      "outputs": [
        {
          "output_type": "execute_result",
          "data": {
            "text/plain": [
              "['aeiou']"
            ]
          },
          "metadata": {},
          "execution_count": 6
        }
      ]
    },
    {
      "cell_type": "code",
      "source": [
        "# Tuple literal\n",
        "person = ('fred', 42, '123-432-0943', '123 North Street')\n",
        "person2 = tuple(['susan', 43, '213-123-0987', '789 West Ave'])"
      ],
      "metadata": {
        "id": "ixevikSCrD7G"
      },
      "execution_count": null,
      "outputs": []
    },
    {
      "cell_type": "code",
      "source": [
        "person2"
      ],
      "metadata": {
        "colab": {
          "base_uri": "https://localhost:8080/"
        },
        "id": "P6HaDaIsrD4i",
        "outputId": "fe45b20c-be37-46a0-b46e-f7e80dc2254f"
      },
      "execution_count": null,
      "outputs": [
        {
          "output_type": "execute_result",
          "data": {
            "text/plain": [
              "('susan', 43, '213-123-0987', '789 West Ave')"
            ]
          },
          "metadata": {},
          "execution_count": 10
        }
      ]
    },
    {
      "cell_type": "code",
      "source": [
        "# Dictionary\n",
        "types = {'name': 'string', 'age': 'int'}\n",
        "ages = dict(zip(['fred', 'suzy'], [20, 21]))\n",
        "types2 = dict(name='string', age='int')"
      ],
      "metadata": {
        "id": "AuBd4rharD2R"
      },
      "execution_count": null,
      "outputs": []
    },
    {
      "cell_type": "code",
      "source": [
        "dict?"
      ],
      "metadata": {
        "id": "T4-EMwdSrDzx"
      },
      "execution_count": null,
      "outputs": []
    },
    {
      "cell_type": "code",
      "source": [],
      "metadata": {
        "id": "tyjceKYHrDxn"
      },
      "execution_count": null,
      "outputs": []
    },
    {
      "cell_type": "code",
      "source": [],
      "metadata": {
        "id": "I-soHUcCrDvD"
      },
      "execution_count": null,
      "outputs": []
    },
    {
      "cell_type": "code",
      "source": [
        "#where are the built-in constructors found?\n",
        "print(dir(__builtin__))"
      ],
      "metadata": {
        "colab": {
          "base_uri": "https://localhost:8080/"
        },
        "id": "8jHb4t-8qWRT",
        "outputId": "0deb5b56-cc63-48ac-ccdd-6286a828be08"
      },
      "execution_count": null,
      "outputs": [
        {
          "output_type": "stream",
          "name": "stdout",
          "text": [
            "['ArithmeticError', 'AssertionError', 'AttributeError', 'BaseException', 'BaseExceptionGroup', 'BlockingIOError', 'BrokenPipeError', 'BufferError', 'BytesWarning', 'ChildProcessError', 'ConnectionAbortedError', 'ConnectionError', 'ConnectionRefusedError', 'ConnectionResetError', 'DeprecationWarning', 'EOFError', 'Ellipsis', 'EncodingWarning', 'EnvironmentError', 'Exception', 'ExceptionGroup', 'False', 'FileExistsError', 'FileNotFoundError', 'FloatingPointError', 'FutureWarning', 'GeneratorExit', 'IOError', 'ImportError', 'ImportWarning', 'IndentationError', 'IndexError', 'InterruptedError', 'IsADirectoryError', 'KeyError', 'KeyboardInterrupt', 'LookupError', 'MemoryError', 'ModuleNotFoundError', 'NameError', 'None', 'NotADirectoryError', 'NotImplemented', 'NotImplementedError', 'OSError', 'OverflowError', 'PendingDeprecationWarning', 'PermissionError', 'ProcessLookupError', 'RecursionError', 'ReferenceError', 'ResourceWarning', 'RuntimeError', 'RuntimeWarning', 'StopAsyncIteration', 'StopIteration', 'SyntaxError', 'SyntaxWarning', 'SystemError', 'SystemExit', 'TabError', 'TimeoutError', 'True', 'TypeError', 'UnboundLocalError', 'UnicodeDecodeError', 'UnicodeEncodeError', 'UnicodeError', 'UnicodeTranslateError', 'UnicodeWarning', 'UserWarning', 'ValueError', 'Warning', 'ZeroDivisionError', '__IPYTHON__', '__build_class__', '__debug__', '__doc__', '__import__', '__loader__', '__name__', '__package__', '__pybind11_internals_v4_gcc_libstdcpp_cxxabi1014__', '__spec__', 'abs', 'aiter', 'all', 'anext', 'any', 'ascii', 'bin', 'bool', 'breakpoint', 'bytearray', 'bytes', 'callable', 'chr', 'classmethod', 'compile', 'complex', 'copyright', 'credits', 'delattr', 'dict', 'dir', 'display', 'divmod', 'enumerate', 'eval', 'exec', 'execfile', 'filter', 'float', 'format', 'frozenset', 'get_ipython', 'getattr', 'globals', 'hasattr', 'hash', 'help', 'hex', 'id', 'input', 'int', 'isinstance', 'issubclass', 'iter', 'len', 'license', 'list', 'locals', 'map', 'max', 'memoryview', 'min', 'next', 'object', 'oct', 'open', 'ord', 'pow', 'print', 'property', 'range', 'repr', 'reversed', 'round', 'runfile', 'set', 'setattr', 'slice', 'sorted', 'staticmethod', 'str', 'sum', 'super', 'tuple', 'type', 'vars', 'zip']\n"
          ]
        }
      ]
    },
    {
      "cell_type": "markdown",
      "source": [
        "# Lookup hierarchy\n",
        "*   Local - function/method\n",
        "*   Enclosed - nested function/method\n",
        "\n",
        "*   Global\n",
        "*   Builtin\n",
        "\n",
        "*   Name error!\n",
        "\n",
        "\n",
        "\n",
        "\n",
        "\n"
      ],
      "metadata": {
        "id": "EfKWUIVls7K6"
      }
    },
    {
      "cell_type": "code",
      "source": [
        "42 + 31"
      ],
      "metadata": {
        "id": "mYIZv4XxrBZS",
        "colab": {
          "base_uri": "https://localhost:8080/"
        },
        "outputId": "23902be4-f5de-4d70-b341-cd72aca1cb56"
      },
      "execution_count": null,
      "outputs": [
        {
          "output_type": "execute_result",
          "data": {
            "text/plain": [
              "73"
            ]
          },
          "metadata": {},
          "execution_count": 1
        }
      ]
    },
    {
      "cell_type": "code",
      "source": [
        "42 ** 100"
      ],
      "metadata": {
        "id": "3SNCybQgtrAR",
        "colab": {
          "base_uri": "https://localhost:8080/"
        },
        "outputId": "efb68b47-7c49-4a90-9cb0-5035df3c4d1f"
      },
      "execution_count": null,
      "outputs": [
        {
          "output_type": "execute_result",
          "data": {
            "text/plain": [
              "2113143741011360736530044045523113991698878330713580061264477934391564919875497777688215057732151811172029315247932158994879668553186145824710950394684126712037376"
            ]
          },
          "metadata": {},
          "execution_count": 2
        }
      ]
    },
    {
      "cell_type": "code",
      "source": [
        "1 - (2 + 4j)"
      ],
      "metadata": {
        "id": "W921dpy7tq-C",
        "colab": {
          "base_uri": "https://localhost:8080/"
        },
        "outputId": "5a3667b8-8a6c-4c48-8175-72d9d45b8610"
      },
      "execution_count": null,
      "outputs": [
        {
          "output_type": "execute_result",
          "data": {
            "text/plain": [
              "(-1-4j)"
            ]
          },
          "metadata": {},
          "execution_count": 3
        }
      ]
    },
    {
      "cell_type": "code",
      "source": [
        "# Integers are Objects!\n",
        "print(dir(42))"
      ],
      "metadata": {
        "id": "47UGO2wJtq7S",
        "colab": {
          "base_uri": "https://localhost:8080/"
        },
        "outputId": "190b5310-52f1-4c9f-ae52-8aeb697a85f4"
      },
      "execution_count": null,
      "outputs": [
        {
          "output_type": "stream",
          "name": "stdout",
          "text": [
            "['__abs__', '__add__', '__and__', '__bool__', '__ceil__', '__class__', '__delattr__', '__dir__', '__divmod__', '__doc__', '__eq__', '__float__', '__floor__', '__floordiv__', '__format__', '__ge__', '__getattribute__', '__getnewargs__', '__getstate__', '__gt__', '__hash__', '__index__', '__init__', '__init_subclass__', '__int__', '__invert__', '__le__', '__lshift__', '__lt__', '__mod__', '__mul__', '__ne__', '__neg__', '__new__', '__or__', '__pos__', '__pow__', '__radd__', '__rand__', '__rdivmod__', '__reduce__', '__reduce_ex__', '__repr__', '__rfloordiv__', '__rlshift__', '__rmod__', '__rmul__', '__ror__', '__round__', '__rpow__', '__rrshift__', '__rshift__', '__rsub__', '__rtruediv__', '__rxor__', '__setattr__', '__sizeof__', '__str__', '__sub__', '__subclasshook__', '__truediv__', '__trunc__', '__xor__', 'as_integer_ratio', 'bit_count', 'bit_length', 'conjugate', 'denominator', 'from_bytes', 'imag', 'numerator', 'real', 'to_bytes']\n"
          ]
        }
      ]
    },
    {
      "cell_type": "code",
      "source": [
        "help((42).bit_length)"
      ],
      "metadata": {
        "colab": {
          "base_uri": "https://localhost:8080/"
        },
        "id": "BwMr6UeWwbKu",
        "outputId": "030cc25d-ab9b-4f60-9f5c-2f232df5d04a"
      },
      "execution_count": null,
      "outputs": [
        {
          "output_type": "stream",
          "name": "stdout",
          "text": [
            "Help on built-in function bit_length:\n",
            "\n",
            "bit_length() method of builtins.int instance\n",
            "    Number of bits necessary to represent self in binary.\n",
            "    \n",
            "    >>> bin(37)\n",
            "    '0b100101'\n",
            "    >>> (37).bit_length()\n",
            "    6\n",
            "\n"
          ]
        }
      ]
    },
    {
      "cell_type": "code",
      "source": [
        "help()"
      ],
      "metadata": {
        "id": "Kfr2ebjH3iWX",
        "outputId": "6b76fa75-30a6-4844-f349-33cf933a51f0",
        "colab": {
          "base_uri": "https://localhost:8080/",
          "height": 141
        }
      },
      "execution_count": null,
      "outputs": [
        {
          "output_type": "error",
          "ename": "NameError",
          "evalue": "name 'bit_length' is not defined",
          "traceback": [
            "\u001b[0;31m---------------------------------------------------------------------------\u001b[0m",
            "\u001b[0;31mNameError\u001b[0m                                 Traceback (most recent call last)",
            "\u001b[0;32m<ipython-input-58-2c68325fe9ed>\u001b[0m in \u001b[0;36m<cell line: 0>\u001b[0;34m()\u001b[0m\n\u001b[0;32m----> 1\u001b[0;31m \u001b[0mhelp\u001b[0m\u001b[0;34m(\u001b[0m\u001b[0mbit_length\u001b[0m\u001b[0;34m)\u001b[0m\u001b[0;34m\u001b[0m\u001b[0;34m\u001b[0m\u001b[0m\n\u001b[0m",
            "\u001b[0;31mNameError\u001b[0m: name 'bit_length' is not defined"
          ]
        }
      ]
    },
    {
      "cell_type": "code",
      "source": [
        "(42).bit_length()"
      ],
      "metadata": {
        "colab": {
          "base_uri": "https://localhost:8080/"
        },
        "id": "8lPwJ89Jws3F",
        "outputId": "2d9975a3-58f4-4d33-97d5-3d304e073958"
      },
      "execution_count": null,
      "outputs": [
        {
          "output_type": "execute_result",
          "data": {
            "text/plain": [
              "6"
            ]
          },
          "metadata": {},
          "execution_count": 7
        }
      ]
    },
    {
      "cell_type": "code",
      "source": [
        "help((2).__add__(15))"
      ],
      "metadata": {
        "colab": {
          "base_uri": "https://localhost:8080/"
        },
        "id": "8i9btZyGwvTM",
        "outputId": "c088ec91-b4c1-4d31-a175-c773a3ffe167",
        "collapsed": true
      },
      "execution_count": null,
      "outputs": [
        {
          "output_type": "stream",
          "name": "stdout",
          "text": [
            "Help on int object:\n",
            "\n",
            "class int(object)\n",
            " |  int([x]) -> integer\n",
            " |  int(x, base=10) -> integer\n",
            " |  \n",
            " |  Convert a number or string to an integer, or return 0 if no arguments\n",
            " |  are given.  If x is a number, return x.__int__().  For floating point\n",
            " |  numbers, this truncates towards zero.\n",
            " |  \n",
            " |  If x is not a number or if base is given, then x must be a string,\n",
            " |  bytes, or bytearray instance representing an integer literal in the\n",
            " |  given base.  The literal can be preceded by '+' or '-' and be surrounded\n",
            " |  by whitespace.  The base defaults to 10.  Valid bases are 0 and 2-36.\n",
            " |  Base 0 means to interpret the base from the string as an integer literal.\n",
            " |  >>> int('0b100', base=0)\n",
            " |  4\n",
            " |  \n",
            " |  Built-in subclasses:\n",
            " |      bool\n",
            " |  \n",
            " |  Methods defined here:\n",
            " |  \n",
            " |  __abs__(self, /)\n",
            " |      abs(self)\n",
            " |  \n",
            " |  __add__(self, value, /)\n",
            " |      Return self+value.\n",
            " |  \n",
            " |  __and__(self, value, /)\n",
            " |      Return self&value.\n",
            " |  \n",
            " |  __bool__(self, /)\n",
            " |      True if self else False\n",
            " |  \n",
            " |  __ceil__(...)\n",
            " |      Ceiling of an Integral returns itself.\n",
            " |  \n",
            " |  __divmod__(self, value, /)\n",
            " |      Return divmod(self, value).\n",
            " |  \n",
            " |  __eq__(self, value, /)\n",
            " |      Return self==value.\n",
            " |  \n",
            " |  __float__(self, /)\n",
            " |      float(self)\n",
            " |  \n",
            " |  __floor__(...)\n",
            " |      Flooring an Integral returns itself.\n",
            " |  \n",
            " |  __floordiv__(self, value, /)\n",
            " |      Return self//value.\n",
            " |  \n",
            " |  __format__(self, format_spec, /)\n",
            " |      Default object formatter.\n",
            " |  \n",
            " |  __ge__(self, value, /)\n",
            " |      Return self>=value.\n",
            " |  \n",
            " |  __getattribute__(self, name, /)\n",
            " |      Return getattr(self, name).\n",
            " |  \n",
            " |  __getnewargs__(self, /)\n",
            " |  \n",
            " |  __gt__(self, value, /)\n",
            " |      Return self>value.\n",
            " |  \n",
            " |  __hash__(self, /)\n",
            " |      Return hash(self).\n",
            " |  \n",
            " |  __index__(self, /)\n",
            " |      Return self converted to an integer, if self is suitable for use as an index into a list.\n",
            " |  \n",
            " |  __int__(self, /)\n",
            " |      int(self)\n",
            " |  \n",
            " |  __invert__(self, /)\n",
            " |      ~self\n",
            " |  \n",
            " |  __le__(self, value, /)\n",
            " |      Return self<=value.\n",
            " |  \n",
            " |  __lshift__(self, value, /)\n",
            " |      Return self<<value.\n",
            " |  \n",
            " |  __lt__(self, value, /)\n",
            " |      Return self<value.\n",
            " |  \n",
            " |  __mod__(self, value, /)\n",
            " |      Return self%value.\n",
            " |  \n",
            " |  __mul__(self, value, /)\n",
            " |      Return self*value.\n",
            " |  \n",
            " |  __ne__(self, value, /)\n",
            " |      Return self!=value.\n",
            " |  \n",
            " |  __neg__(self, /)\n",
            " |      -self\n",
            " |  \n",
            " |  __or__(self, value, /)\n",
            " |      Return self|value.\n",
            " |  \n",
            " |  __pos__(self, /)\n",
            " |      +self\n",
            " |  \n",
            " |  __pow__(self, value, mod=None, /)\n",
            " |      Return pow(self, value, mod).\n",
            " |  \n",
            " |  __radd__(self, value, /)\n",
            " |      Return value+self.\n",
            " |  \n",
            " |  __rand__(self, value, /)\n",
            " |      Return value&self.\n",
            " |  \n",
            " |  __rdivmod__(self, value, /)\n",
            " |      Return divmod(value, self).\n",
            " |  \n",
            " |  __repr__(self, /)\n",
            " |      Return repr(self).\n",
            " |  \n",
            " |  __rfloordiv__(self, value, /)\n",
            " |      Return value//self.\n",
            " |  \n",
            " |  __rlshift__(self, value, /)\n",
            " |      Return value<<self.\n",
            " |  \n",
            " |  __rmod__(self, value, /)\n",
            " |      Return value%self.\n",
            " |  \n",
            " |  __rmul__(self, value, /)\n",
            " |      Return value*self.\n",
            " |  \n",
            " |  __ror__(self, value, /)\n",
            " |      Return value|self.\n",
            " |  \n",
            " |  __round__(...)\n",
            " |      Rounding an Integral returns itself.\n",
            " |      \n",
            " |      Rounding with an ndigits argument also returns an integer.\n",
            " |  \n",
            " |  __rpow__(self, value, mod=None, /)\n",
            " |      Return pow(value, self, mod).\n",
            " |  \n",
            " |  __rrshift__(self, value, /)\n",
            " |      Return value>>self.\n",
            " |  \n",
            " |  __rshift__(self, value, /)\n",
            " |      Return self>>value.\n",
            " |  \n",
            " |  __rsub__(self, value, /)\n",
            " |      Return value-self.\n",
            " |  \n",
            " |  __rtruediv__(self, value, /)\n",
            " |      Return value/self.\n",
            " |  \n",
            " |  __rxor__(self, value, /)\n",
            " |      Return value^self.\n",
            " |  \n",
            " |  __sizeof__(self, /)\n",
            " |      Returns size in memory, in bytes.\n",
            " |  \n",
            " |  __sub__(self, value, /)\n",
            " |      Return self-value.\n",
            " |  \n",
            " |  __truediv__(self, value, /)\n",
            " |      Return self/value.\n",
            " |  \n",
            " |  __trunc__(...)\n",
            " |      Truncating an Integral returns itself.\n",
            " |  \n",
            " |  __xor__(self, value, /)\n",
            " |      Return self^value.\n",
            " |  \n",
            " |  as_integer_ratio(self, /)\n",
            " |      Return integer ratio.\n",
            " |      \n",
            " |      Return a pair of integers, whose ratio is exactly equal to the original int\n",
            " |      and with a positive denominator.\n",
            " |      \n",
            " |      >>> (10).as_integer_ratio()\n",
            " |      (10, 1)\n",
            " |      >>> (-10).as_integer_ratio()\n",
            " |      (-10, 1)\n",
            " |      >>> (0).as_integer_ratio()\n",
            " |      (0, 1)\n",
            " |  \n",
            " |  bit_count(self, /)\n",
            " |      Number of ones in the binary representation of the absolute value of self.\n",
            " |      \n",
            " |      Also known as the population count.\n",
            " |      \n",
            " |      >>> bin(13)\n",
            " |      '0b1101'\n",
            " |      >>> (13).bit_count()\n",
            " |      3\n",
            " |  \n",
            " |  bit_length(self, /)\n",
            " |      Number of bits necessary to represent self in binary.\n",
            " |      \n",
            " |      >>> bin(37)\n",
            " |      '0b100101'\n",
            " |      >>> (37).bit_length()\n",
            " |      6\n",
            " |  \n",
            " |  conjugate(...)\n",
            " |      Returns self, the complex conjugate of any int.\n",
            " |  \n",
            " |  to_bytes(self, /, length=1, byteorder='big', *, signed=False)\n",
            " |      Return an array of bytes representing an integer.\n",
            " |      \n",
            " |      length\n",
            " |        Length of bytes object to use.  An OverflowError is raised if the\n",
            " |        integer is not representable with the given number of bytes.  Default\n",
            " |        is length 1.\n",
            " |      byteorder\n",
            " |        The byte order used to represent the integer.  If byteorder is 'big',\n",
            " |        the most significant byte is at the beginning of the byte array.  If\n",
            " |        byteorder is 'little', the most significant byte is at the end of the\n",
            " |        byte array.  To request the native byte order of the host system, use\n",
            " |        `sys.byteorder' as the byte order value.  Default is to use 'big'.\n",
            " |      signed\n",
            " |        Determines whether two's complement is used to represent the integer.\n",
            " |        If signed is False and a negative integer is given, an OverflowError\n",
            " |        is raised.\n",
            " |  \n",
            " |  ----------------------------------------------------------------------\n",
            " |  Class methods defined here:\n",
            " |  \n",
            " |  from_bytes(bytes, byteorder='big', *, signed=False)\n",
            " |      Return the integer represented by the given array of bytes.\n",
            " |      \n",
            " |      bytes\n",
            " |        Holds the array of bytes to convert.  The argument must either\n",
            " |        support the buffer protocol or be an iterable object producing bytes.\n",
            " |        Bytes and bytearray are examples of built-in objects that support the\n",
            " |        buffer protocol.\n",
            " |      byteorder\n",
            " |        The byte order used to represent the integer.  If byteorder is 'big',\n",
            " |        the most significant byte is at the beginning of the byte array.  If\n",
            " |        byteorder is 'little', the most significant byte is at the end of the\n",
            " |        byte array.  To request the native byte order of the host system, use\n",
            " |        `sys.byteorder' as the byte order value.  Default is to use 'big'.\n",
            " |      signed\n",
            " |        Indicates whether two's complement is used to represent the integer.\n",
            " |  \n",
            " |  ----------------------------------------------------------------------\n",
            " |  Static methods defined here:\n",
            " |  \n",
            " |  __new__(*args, **kwargs)\n",
            " |      Create and return a new object.  See help(type) for accurate signature.\n",
            " |  \n",
            " |  ----------------------------------------------------------------------\n",
            " |  Data descriptors defined here:\n",
            " |  \n",
            " |  denominator\n",
            " |      the denominator of a rational number in lowest terms\n",
            " |  \n",
            " |  imag\n",
            " |      the imaginary part of a complex number\n",
            " |  \n",
            " |  numerator\n",
            " |      the numerator of a rational number in lowest terms\n",
            " |  \n",
            " |  real\n",
            " |      the real part of a complex number\n",
            "\n"
          ]
        }
      ]
    },
    {
      "cell_type": "code",
      "source": [],
      "metadata": {
        "id": "f7YqyJzGxTpR"
      },
      "execution_count": null,
      "outputs": []
    },
    {
      "cell_type": "markdown",
      "source": [
        "# **Strings and Unicode**"
      ],
      "metadata": {
        "id": "se_qo-uOxyXO"
      }
    },
    {
      "cell_type": "code",
      "source": [
        "name = \"Ratul\"\n"
      ],
      "metadata": {
        "id": "HAufkMMOxyHm"
      },
      "execution_count": null,
      "outputs": []
    },
    {
      "cell_type": "code",
      "source": [
        "print(dir(name))"
      ],
      "metadata": {
        "colab": {
          "base_uri": "https://localhost:8080/"
        },
        "id": "zfJNXiF3yg0-",
        "outputId": "17f0b596-0c45-4cc5-d804-6491fa9fd097"
      },
      "execution_count": null,
      "outputs": [
        {
          "output_type": "stream",
          "name": "stdout",
          "text": [
            "['__add__', '__class__', '__contains__', '__delattr__', '__dir__', '__doc__', '__eq__', '__format__', '__ge__', '__getattribute__', '__getitem__', '__getnewargs__', '__getstate__', '__gt__', '__hash__', '__init__', '__init_subclass__', '__iter__', '__le__', '__len__', '__lt__', '__mod__', '__mul__', '__ne__', '__new__', '__reduce__', '__reduce_ex__', '__repr__', '__rmod__', '__rmul__', '__setattr__', '__sizeof__', '__str__', '__subclasshook__', 'capitalize', 'casefold', 'center', 'count', 'encode', 'endswith', 'expandtabs', 'find', 'format', 'format_map', 'index', 'isalnum', 'isalpha', 'isascii', 'isdecimal', 'isdigit', 'isidentifier', 'islower', 'isnumeric', 'isprintable', 'isspace', 'istitle', 'isupper', 'join', 'ljust', 'lower', 'lstrip', 'maketrans', 'partition', 'removeprefix', 'removesuffix', 'replace', 'rfind', 'rindex', 'rjust', 'rpartition', 'rsplit', 'rstrip', 'split', 'splitlines', 'startswith', 'strip', 'swapcase', 'title', 'translate', 'upper', 'zfill']\n"
          ]
        }
      ]
    },
    {
      "cell_type": "code",
      "source": [
        "help(name.upper)"
      ],
      "metadata": {
        "id": "0FFGAP2QyiYZ",
        "colab": {
          "base_uri": "https://localhost:8080/"
        },
        "outputId": "418a9c29-6363-4f1d-8bb0-b66d5bd1f36f"
      },
      "execution_count": null,
      "outputs": [
        {
          "output_type": "stream",
          "name": "stdout",
          "text": [
            "Help on built-in function upper:\n",
            "\n",
            "upper() method of builtins.str instance\n",
            "    Return a copy of the string converted to uppercase.\n",
            "\n"
          ]
        }
      ]
    },
    {
      "cell_type": "code",
      "source": [
        "name.title()"
      ],
      "metadata": {
        "id": "fHpQngmryl7v",
        "colab": {
          "base_uri": "https://localhost:8080/",
          "height": 35
        },
        "outputId": "e8af9115-5a9d-47e2-aca1-f3026f3dcacb"
      },
      "execution_count": null,
      "outputs": [
        {
          "output_type": "execute_result",
          "data": {
            "text/plain": [
              "'Ratul'"
            ],
            "application/vnd.google.colaboratory.intrinsic+json": {
              "type": "string"
            }
          },
          "metadata": {},
          "execution_count": 5
        }
      ]
    },
    {
      "cell_type": "code",
      "source": [
        "name.find(\"l\")"
      ],
      "metadata": {
        "id": "zB9ACa3Uyl43",
        "colab": {
          "base_uri": "https://localhost:8080/"
        },
        "outputId": "27231a94-3ab4-4986-8580-68c1c8c5b774"
      },
      "execution_count": null,
      "outputs": [
        {
          "output_type": "execute_result",
          "data": {
            "text/plain": [
              "4"
            ]
          },
          "metadata": {},
          "execution_count": 10
        }
      ]
    },
    {
      "cell_type": "code",
      "source": [
        "name[0]"
      ],
      "metadata": {
        "id": "4YTluHm-yl2P",
        "colab": {
          "base_uri": "https://localhost:8080/",
          "height": 35
        },
        "outputId": "f7e39e61-91c6-4794-c24b-0a2d2306abe9"
      },
      "execution_count": null,
      "outputs": [
        {
          "output_type": "execute_result",
          "data": {
            "text/plain": [
              "'R'"
            ],
            "application/vnd.google.colaboratory.intrinsic+json": {
              "type": "string"
            }
          },
          "metadata": {},
          "execution_count": 11
        }
      ]
    },
    {
      "cell_type": "code",
      "source": [
        "name[len(name) - 1]"
      ],
      "metadata": {
        "id": "nJCEwCNWylzp",
        "colab": {
          "base_uri": "https://localhost:8080/",
          "height": 35
        },
        "outputId": "82bc3548-d2d1-49b0-ba83-88d9a727231d"
      },
      "execution_count": null,
      "outputs": [
        {
          "output_type": "execute_result",
          "data": {
            "text/plain": [
              "'l'"
            ],
            "application/vnd.google.colaboratory.intrinsic+json": {
              "type": "string"
            }
          },
          "metadata": {},
          "execution_count": 12
        }
      ]
    },
    {
      "cell_type": "code",
      "source": [
        "greeting = 'Hello \\N{GRINNING FACE} \\U0001f600 😀'\n",
        "greeting"
      ],
      "metadata": {
        "id": "hvHRikf8ylxA",
        "colab": {
          "base_uri": "https://localhost:8080/",
          "height": 35
        },
        "outputId": "0f4b82d9-15dc-4036-ba33-4694bd248c5b"
      },
      "execution_count": null,
      "outputs": [
        {
          "output_type": "execute_result",
          "data": {
            "text/plain": [
              "'Hello 😀 😀 😀'"
            ],
            "application/vnd.google.colaboratory.intrinsic+json": {
              "type": "string"
            }
          },
          "metadata": {},
          "execution_count": 14
        }
      ]
    },
    {
      "cell_type": "code",
      "source": [
        "greeting.encode('utf8')"
      ],
      "metadata": {
        "id": "wXmY13EpyluK",
        "colab": {
          "base_uri": "https://localhost:8080/"
        },
        "outputId": "9cf824ca-9c37-41d0-93e3-99a0a28da80f"
      },
      "execution_count": null,
      "outputs": [
        {
          "output_type": "execute_result",
          "data": {
            "text/plain": [
              "b'Hello \\xf0\\x9f\\x98\\x80 \\xf0\\x9f\\x98\\x80 \\xf0\\x9f\\x98\\x80'"
            ]
          },
          "metadata": {},
          "execution_count": 15
        }
      ]
    },
    {
      "cell_type": "code",
      "source": [
        "greeting.encode('utf8').decode('utf8')"
      ],
      "metadata": {
        "id": "77XMgWvSylre",
        "colab": {
          "base_uri": "https://localhost:8080/",
          "height": 35
        },
        "outputId": "79b748b5-4868-448f-9b8f-17ea9d8e61a9"
      },
      "execution_count": null,
      "outputs": [
        {
          "output_type": "execute_result",
          "data": {
            "text/plain": [
              "'Hello 😀 😀 😀'"
            ],
            "application/vnd.google.colaboratory.intrinsic+json": {
              "type": "string"
            }
          },
          "metadata": {},
          "execution_count": 16
        }
      ]
    },
    {
      "cell_type": "code",
      "source": [
        "paragraph = \"\"\"Greetings,\n",
        "Thank you for attending tonight.\n",
        "Long-winded talk.\n",
        "Goodbye!\"\"\""
      ],
      "metadata": {
        "id": "2qC6UKRLyloe"
      },
      "execution_count": null,
      "outputs": []
    },
    {
      "cell_type": "code",
      "source": [
        "#f-strings\n",
        "minutes = 36\n",
        "paragraph = f\"\"\"Greetings, {name.title()}\n",
        "Thank you for attending tonight.\n",
        "WE will be here for {minutes/60:.2f} hours\n",
        "Long-winded talk.\n",
        "Goodbye! {name}!!!\"\"\"\n",
        "print(paragraph)"
      ],
      "metadata": {
        "colab": {
          "base_uri": "https://localhost:8080/"
        },
        "id": "gZ_qfD_lrspB",
        "outputId": "31b9d8a2-d6c3-46db-e551-63252a014692"
      },
      "execution_count": null,
      "outputs": [
        {
          "output_type": "stream",
          "name": "stdout",
          "text": [
            "Greetings, Ratul\n",
            "Thank you for attending tonight. \n",
            "WE will be here for 0.60 hours\n",
            "Long-winded talk.\n",
            "Goodbye! Ratul!!!\n"
          ]
        }
      ]
    },
    {
      "cell_type": "code",
      "source": [
        "#formatting following a \":\"\n",
        "name = 'Ringo'\n",
        "f\"Name: {name:*^12}\""
      ],
      "metadata": {
        "colab": {
          "base_uri": "https://localhost:8080/",
          "height": 35
        },
        "id": "2XEUquK9rsmp",
        "outputId": "2f2a8fd4-223e-4dd9-d7a2-297f4950707c"
      },
      "execution_count": null,
      "outputs": [
        {
          "output_type": "execute_result",
          "data": {
            "text/plain": [
              "'Name: ***Ringo****'"
            ],
            "application/vnd.google.colaboratory.intrinsic+json": {
              "type": "string"
            }
          },
          "metadata": {},
          "execution_count": 27
        }
      ]
    },
    {
      "cell_type": "code",
      "source": [
        "per = -44 / 100\n",
        "f\"Percent: {per:=10.1%}\""
      ],
      "metadata": {
        "colab": {
          "base_uri": "https://localhost:8080/",
          "height": 35
        },
        "id": "dCrVu04lrskL",
        "outputId": "5cc72153-29fc-47f9-9f34-8023afe86282"
      },
      "execution_count": null,
      "outputs": [
        {
          "output_type": "execute_result",
          "data": {
            "text/plain": [
              "'Percent: -    44.0%'"
            ],
            "application/vnd.google.colaboratory.intrinsic+json": {
              "type": "string"
            }
          },
          "metadata": {},
          "execution_count": 35
        }
      ]
    },
    {
      "cell_type": "code",
      "source": [
        "f\"Binary: {27:b}\""
      ],
      "metadata": {
        "colab": {
          "base_uri": "https://localhost:8080/",
          "height": 35
        },
        "id": "yLno7Jf5ySmy",
        "outputId": "e49c5c7f-9f03-4074-82fd-b2c4f4dba1e7"
      },
      "execution_count": null,
      "outputs": [
        {
          "output_type": "execute_result",
          "data": {
            "text/plain": [
              "'Binary: 11011'"
            ],
            "application/vnd.google.colaboratory.intrinsic+json": {
              "type": "string"
            }
          },
          "metadata": {},
          "execution_count": 38
        }
      ]
    },
    {
      "cell_type": "code",
      "source": [
        "f\"Hex: {27:x}\""
      ],
      "metadata": {
        "colab": {
          "base_uri": "https://localhost:8080/",
          "height": 35
        },
        "id": "Slz7WYswrshf",
        "outputId": "4d1baaf2-ff5c-4bac-df66-7fb3fbca53db"
      },
      "execution_count": null,
      "outputs": [
        {
          "output_type": "execute_result",
          "data": {
            "text/plain": [
              "'Hex: 1b'"
            ],
            "application/vnd.google.colaboratory.intrinsic+json": {
              "type": "string"
            }
          },
          "metadata": {},
          "execution_count": 40
        }
      ]
    },
    {
      "cell_type": "markdown",
      "source": [
        "Getting **Help**"
      ],
      "metadata": {
        "id": "t97bf6rE0O7W"
      }
    },
    {
      "cell_type": "code",
      "source": [
        "help(len)"
      ],
      "metadata": {
        "colab": {
          "base_uri": "https://localhost:8080/"
        },
        "id": "RWFTYYgJrsZU",
        "outputId": "9e14156e-b89e-4570-d188-eafb421f01c7"
      },
      "execution_count": null,
      "outputs": [
        {
          "output_type": "stream",
          "name": "stdout",
          "text": [
            "Help on built-in function len in module builtins:\n",
            "\n",
            "len(obj, /)\n",
            "    Return the number of items in a container.\n",
            "\n"
          ]
        }
      ]
    },
    {
      "cell_type": "code",
      "source": [
        "def adder(x, y):\n",
        "  \"Adds two values\"\n",
        "  return x + y"
      ],
      "metadata": {
        "id": "W0lUpnkgtL1U"
      },
      "execution_count": null,
      "outputs": []
    },
    {
      "cell_type": "code",
      "source": [
        "help(adder)"
      ],
      "metadata": {
        "colab": {
          "base_uri": "https://localhost:8080/"
        },
        "id": "O2H1qIuXtLy5",
        "outputId": "4bc821a7-4119-46ef-d56d-b52f7b9ca173"
      },
      "execution_count": null,
      "outputs": [
        {
          "output_type": "stream",
          "name": "stdout",
          "text": [
            "Help on function adder in module __main__:\n",
            "\n",
            "adder(x, y)\n",
            "    Adds two values\n",
            "\n"
          ]
        }
      ]
    },
    {
      "cell_type": "code",
      "source": [
        "help()"
      ],
      "metadata": {
        "colab": {
          "base_uri": "https://localhost:8080/"
        },
        "collapsed": true,
        "id": "hG6hPcIhtLuk",
        "outputId": "ad5e4719-73a6-49ce-9efd-3c4e6dd9fa71"
      },
      "execution_count": null,
      "outputs": [
        {
          "output_type": "stream",
          "name": "stdout",
          "text": [
            "Welcome to Python 3.11's help utility! If this is your first time using\n",
            "Python, you should definitely check out the tutorial at\n",
            "https://docs.python.org/3.11/tutorial/.\n",
            "\n",
            "Enter the name of any module, keyword, or topic to get help on writing\n",
            "Python programs and using Python modules.  To get a list of available\n",
            "modules, keywords, symbols, or topics, enter \"modules\", \"keywords\",\n",
            "\"symbols\", or \"topics\".\n",
            "\n",
            "Each module also comes with a one-line summary of what it does; to list\n",
            "the modules whose name or summary contain a given string such as \"spam\",\n",
            "enter \"modules spam\".\n",
            "\n",
            "To quit this help utility and return to the interpreter,\n",
            "enter \"q\" or \"quit\".\n",
            "\n",
            "help> keywords\n",
            "\n",
            "Here is a list of the Python keywords.  Enter any keyword to get more help.\n",
            "\n",
            "False               class               from                or\n",
            "None                continue            global              pass\n",
            "True                def                 if                  raise\n",
            "and                 del                 import              return\n",
            "as                  elif                in                  try\n",
            "assert              else                is                  while\n",
            "async               except              lambda              with\n",
            "await               finally             nonlocal            yield\n",
            "break               for                 not                 \n",
            "\n",
            "help> \n",
            "\n",
            "You are now leaving help and returning to the Python interpreter.\n",
            "If you want to ask for help on a particular object directly from the\n",
            "interpreter, you can type \"help(object)\".  Executing \"help('string')\"\n",
            "has the same effect as typing a particular string at the help> prompt.\n"
          ]
        }
      ]
    },
    {
      "cell_type": "code",
      "source": [
        "dir('a string')"
      ],
      "metadata": {
        "colab": {
          "base_uri": "https://localhost:8080/"
        },
        "id": "VJVMiGAitLw5",
        "outputId": "e280b980-4cb3-4c47-fdfd-2cdf2ce92db3",
        "collapsed": true
      },
      "execution_count": null,
      "outputs": [
        {
          "output_type": "execute_result",
          "data": {
            "text/plain": [
              "['__add__',\n",
              " '__class__',\n",
              " '__contains__',\n",
              " '__delattr__',\n",
              " '__dir__',\n",
              " '__doc__',\n",
              " '__eq__',\n",
              " '__format__',\n",
              " '__ge__',\n",
              " '__getattribute__',\n",
              " '__getitem__',\n",
              " '__getnewargs__',\n",
              " '__getstate__',\n",
              " '__gt__',\n",
              " '__hash__',\n",
              " '__init__',\n",
              " '__init_subclass__',\n",
              " '__iter__',\n",
              " '__le__',\n",
              " '__len__',\n",
              " '__lt__',\n",
              " '__mod__',\n",
              " '__mul__',\n",
              " '__ne__',\n",
              " '__new__',\n",
              " '__reduce__',\n",
              " '__reduce_ex__',\n",
              " '__repr__',\n",
              " '__rmod__',\n",
              " '__rmul__',\n",
              " '__setattr__',\n",
              " '__sizeof__',\n",
              " '__str__',\n",
              " '__subclasshook__',\n",
              " 'capitalize',\n",
              " 'casefold',\n",
              " 'center',\n",
              " 'count',\n",
              " 'encode',\n",
              " 'endswith',\n",
              " 'expandtabs',\n",
              " 'find',\n",
              " 'format',\n",
              " 'format_map',\n",
              " 'index',\n",
              " 'isalnum',\n",
              " 'isalpha',\n",
              " 'isascii',\n",
              " 'isdecimal',\n",
              " 'isdigit',\n",
              " 'isidentifier',\n",
              " 'islower',\n",
              " 'isnumeric',\n",
              " 'isprintable',\n",
              " 'isspace',\n",
              " 'istitle',\n",
              " 'isupper',\n",
              " 'join',\n",
              " 'ljust',\n",
              " 'lower',\n",
              " 'lstrip',\n",
              " 'maketrans',\n",
              " 'partition',\n",
              " 'removeprefix',\n",
              " 'removesuffix',\n",
              " 'replace',\n",
              " 'rfind',\n",
              " 'rindex',\n",
              " 'rjust',\n",
              " 'rpartition',\n",
              " 'rsplit',\n",
              " 'rstrip',\n",
              " 'split',\n",
              " 'splitlines',\n",
              " 'startswith',\n",
              " 'strip',\n",
              " 'swapcase',\n",
              " 'title',\n",
              " 'translate',\n",
              " 'upper',\n",
              " 'zfill']"
            ]
          },
          "metadata": {},
          "execution_count": 44
        }
      ]
    },
    {
      "cell_type": "code",
      "source": [
        "##documentation for adder in jupyter\n",
        "adder?"
      ],
      "metadata": {
        "id": "mBlJa6kutLr9"
      },
      "execution_count": null,
      "outputs": []
    },
    {
      "cell_type": "code",
      "source": [
        "#source code for adder in jupyter\n",
        "adder??\n",
        "\n",
        "# upper both is jupyter features... not valid python."
      ],
      "metadata": {
        "id": "yfF8_lNU1o1K"
      },
      "execution_count": null,
      "outputs": []
    },
    {
      "cell_type": "code",
      "source": [],
      "metadata": {
        "id": "bY8cyV2ktLpn"
      },
      "execution_count": null,
      "outputs": []
    },
    {
      "cell_type": "markdown",
      "source": [
        "# **Conditionals**"
      ],
      "metadata": {
        "id": "TCFnpcDMpPJP"
      }
    },
    {
      "cell_type": "code",
      "source": [
        "grade = -1\n",
        "if grade > 90:\n",
        "  print(\"A+\")\n",
        "elif grade > 85:\n",
        "  print(\"A\")\n",
        "elif grade > 80:\n",
        "  print(\"B\")\n",
        "elif grade > 70:\n",
        "  print(\"C\")\n",
        "else:\n",
        "  print(\"D\")"
      ],
      "metadata": {
        "id": "PlawfNdutLnM",
        "colab": {
          "base_uri": "https://localhost:8080/"
        },
        "outputId": "fcc27db5-2d33-41bc-9a9f-ef6f88bb3f24"
      },
      "execution_count": 23,
      "outputs": [
        {
          "output_type": "stream",
          "name": "stdout",
          "text": [
            "D\n"
          ]
        }
      ]
    },
    {
      "cell_type": "code",
      "source": [
        "5 > 9"
      ],
      "metadata": {
        "id": "cnEk7IrHtLkw",
        "colab": {
          "base_uri": "https://localhost:8080/"
        },
        "outputId": "9b70d896-f84e-4782-f28a-b0efc8e4495e"
      },
      "execution_count": 2,
      "outputs": [
        {
          "output_type": "execute_result",
          "data": {
            "text/plain": [
              "False"
            ]
          },
          "metadata": {},
          "execution_count": 2
        }
      ]
    },
    {
      "cell_type": "code",
      "source": [
        "'mat' != 'fat'"
      ],
      "metadata": {
        "id": "PdSkFDF31lEW",
        "colab": {
          "base_uri": "https://localhost:8080/"
        },
        "outputId": "bba277bd-4592-4e0d-bc61-5e1c4bfc640d"
      },
      "execution_count": 4,
      "outputs": [
        {
          "output_type": "execute_result",
          "data": {
            "text/plain": [
              "True"
            ]
          },
          "metadata": {},
          "execution_count": 4
        }
      ]
    },
    {
      "cell_type": "code",
      "source": [
        "isinstance(\"matt\", int)"
      ],
      "metadata": {
        "id": "RD3uPKYt1lCN",
        "colab": {
          "base_uri": "https://localhost:8080/"
        },
        "outputId": "a1dafaa7-82ea-4cd5-f73f-a83d6be5c4dc"
      },
      "execution_count": 5,
      "outputs": [
        {
          "output_type": "execute_result",
          "data": {
            "text/plain": [
              "False"
            ]
          },
          "metadata": {},
          "execution_count": 5
        }
      ]
    },
    {
      "cell_type": "code",
      "source": [
        "#``and``, ``or``,  ``not`` (for logical), ``&``, ``|``, and ``^``(xor) (for bitwise)\n",
        "x = 5\n",
        "x < -4 or x > 4"
      ],
      "metadata": {
        "id": "7LyF_bxD1k_2",
        "colab": {
          "base_uri": "https://localhost:8080/"
        },
        "outputId": "8c0c4ee8-21a4-4703-fa55-ca3fd3d2cd5d"
      },
      "execution_count": 6,
      "outputs": [
        {
          "output_type": "execute_result",
          "data": {
            "text/plain": [
              "True"
            ]
          },
          "metadata": {},
          "execution_count": 6
        }
      ]
    },
    {
      "cell_type": "markdown",
      "source": [
        "# **Iteration**"
      ],
      "metadata": {
        "id": "6_sMIjlst8-Y"
      }
    },
    {
      "cell_type": "code",
      "source": [
        "for number in [1,2,3,4,5,6]:\n",
        "  print(number)"
      ],
      "metadata": {
        "id": "vqGTySTa1k9h",
        "colab": {
          "base_uri": "https://localhost:8080/"
        },
        "outputId": "06ebf3c7-6f1f-4362-86a9-53e7afbceee5"
      },
      "execution_count": 7,
      "outputs": [
        {
          "output_type": "stream",
          "name": "stdout",
          "text": [
            "1\n",
            "2\n",
            "3\n",
            "4\n",
            "5\n",
            "6\n"
          ]
        }
      ]
    },
    {
      "cell_type": "code",
      "source": [
        "number"
      ],
      "metadata": {
        "id": "G5hMWWyh1k7Q",
        "colab": {
          "base_uri": "https://localhost:8080/"
        },
        "outputId": "4cdfb50b-e341-4b5f-bf22-cd548e480b62"
      },
      "execution_count": 8,
      "outputs": [
        {
          "output_type": "execute_result",
          "data": {
            "text/plain": [
              "6"
            ]
          },
          "metadata": {},
          "execution_count": 8
        }
      ]
    },
    {
      "cell_type": "code",
      "source": [
        "for number in range(1, 7):\n",
        "  print(number)"
      ],
      "metadata": {
        "id": "OWrhBftd1k40",
        "colab": {
          "base_uri": "https://localhost:8080/"
        },
        "outputId": "dfbaadae-59e5-4282-e477-85ef40a3a6d7"
      },
      "execution_count": 9,
      "outputs": [
        {
          "output_type": "stream",
          "name": "stdout",
          "text": [
            "1\n",
            "2\n",
            "3\n",
            "4\n",
            "5\n",
            "6\n"
          ]
        }
      ]
    },
    {
      "cell_type": "code",
      "source": [
        "range(6)"
      ],
      "metadata": {
        "id": "pLJw8f7T1k2S",
        "colab": {
          "base_uri": "https://localhost:8080/"
        },
        "outputId": "f2794255-d087-4620-c0b3-97f3acdd456b"
      },
      "execution_count": 10,
      "outputs": [
        {
          "output_type": "execute_result",
          "data": {
            "text/plain": [
              "range(0, 6)"
            ]
          },
          "metadata": {},
          "execution_count": 10
        }
      ]
    },
    {
      "cell_type": "code",
      "source": [
        "list(range(6))"
      ],
      "metadata": {
        "id": "RGZeMLz51k0C",
        "colab": {
          "base_uri": "https://localhost:8080/"
        },
        "outputId": "1d473ab0-c471-49ef-fa03-8b8b02f1a2fd"
      },
      "execution_count": 11,
      "outputs": [
        {
          "output_type": "execute_result",
          "data": {
            "text/plain": [
              "[0, 1, 2, 3, 4, 5]"
            ]
          },
          "metadata": {},
          "execution_count": 11
        }
      ]
    },
    {
      "cell_type": "code",
      "source": [
        "list(range(2, 7))"
      ],
      "metadata": {
        "id": "wo1XNx3o1kxu",
        "colab": {
          "base_uri": "https://localhost:8080/"
        },
        "outputId": "3dc0a824-af87-4eea-e88a-e1965ac2e3d7"
      },
      "execution_count": 12,
      "outputs": [
        {
          "output_type": "execute_result",
          "data": {
            "text/plain": [
              "[2, 3, 4, 5, 6]"
            ]
          },
          "metadata": {},
          "execution_count": 12
        }
      ]
    },
    {
      "cell_type": "code",
      "source": [],
      "metadata": {
        "id": "VKf86lyy1kvU"
      },
      "execution_count": null,
      "outputs": []
    },
    {
      "cell_type": "code",
      "source": [
        "### BAD PRACTICE IG\n",
        "animals = [\"cat\", \"bird\", \"elephant\"]\n",
        "for index in range(len(animals)):\n",
        "  print(index, animals[index])"
      ],
      "metadata": {
        "colab": {
          "base_uri": "https://localhost:8080/"
        },
        "id": "JuPgX8P2qez5",
        "outputId": "158bfb85-5e65-41d2-9196-00a4c33fa54a"
      },
      "execution_count": 13,
      "outputs": [
        {
          "output_type": "stream",
          "name": "stdout",
          "text": [
            "0 cat\n",
            "1 bird\n",
            "2 elephant\n"
          ]
        }
      ]
    },
    {
      "cell_type": "code",
      "source": [
        "###Rather follow this enumerate method\n",
        "animals = [\"cat\", \"bird\", \"elephant\"]\n",
        "for index, animal in enumerate(animals):\n",
        "  print(index, animal)"
      ],
      "metadata": {
        "colab": {
          "base_uri": "https://localhost:8080/"
        },
        "id": "C4a8Ekp_qexZ",
        "outputId": "a94f5ef6-ceac-48d9-ac76-b47dd2500d4e"
      },
      "execution_count": 14,
      "outputs": [
        {
          "output_type": "stream",
          "name": "stdout",
          "text": [
            "0 cat\n",
            "1 bird\n",
            "2 elephant\n"
          ]
        }
      ]
    },
    {
      "cell_type": "code",
      "source": [
        "animals = [\"cat\", \"dog\", \"elephant\"]\n",
        "for index, value in enumerate(animals):\n",
        "  if value == 'dog':\n",
        "    break\n",
        "  print(index, value)"
      ],
      "metadata": {
        "colab": {
          "base_uri": "https://localhost:8080/"
        },
        "id": "f8fO0Ox7qevl",
        "outputId": "6daad03d-9412-4618-82cc-7503df133e13"
      },
      "execution_count": 16,
      "outputs": [
        {
          "output_type": "stream",
          "name": "stdout",
          "text": [
            "0 cat\n"
          ]
        }
      ]
    },
    {
      "cell_type": "code",
      "source": [
        "animals = [\"cat\", \"dog\", \"elephant\"]\n",
        "for index, value in enumerate(animals):\n",
        "  if value == 'dog':\n",
        "    continue\n",
        "  print(index, value)"
      ],
      "metadata": {
        "colab": {
          "base_uri": "https://localhost:8080/"
        },
        "id": "oNvqOO8cqetP",
        "outputId": "9411a163-37cc-40c8-da62-4480ee6493d0"
      },
      "execution_count": 17,
      "outputs": [
        {
          "output_type": "stream",
          "name": "stdout",
          "text": [
            "0 cat\n",
            "2 elephant\n"
          ]
        }
      ]
    },
    {
      "cell_type": "code",
      "source": [
        "my_dict = {\"name\": \"matt\", \"cash\": 99.25}\n",
        "for key in my_dict:\n",
        "  print(key)"
      ],
      "metadata": {
        "colab": {
          "base_uri": "https://localhost:8080/"
        },
        "id": "YGbgAJXHqeqk",
        "outputId": "b481c63f-d3a8-4c51-d4cf-69966daf631c"
      },
      "execution_count": 19,
      "outputs": [
        {
          "output_type": "stream",
          "name": "stdout",
          "text": [
            "name\n",
            "cash\n"
          ]
        }
      ]
    },
    {
      "cell_type": "code",
      "source": [
        "for value in my_dict.values():\n",
        "  print(value)"
      ],
      "metadata": {
        "colab": {
          "base_uri": "https://localhost:8080/"
        },
        "id": "i4BVT2KBwkod",
        "outputId": "e59b15c5-bb7c-4d66-cb38-ab6e5f5e2ba1"
      },
      "execution_count": 20,
      "outputs": [
        {
          "output_type": "stream",
          "name": "stdout",
          "text": [
            "matt\n",
            "99.25\n"
          ]
        }
      ]
    },
    {
      "cell_type": "code",
      "source": [
        "for key, value in my_dict.items():\n",
        "  print(key,\"==>\", value)"
      ],
      "metadata": {
        "colab": {
          "base_uri": "https://localhost:8080/"
        },
        "id": "cK6AZnvwwkmC",
        "outputId": "c30658ee-72a1-4e92-c8f5-c1cddc9df41c"
      },
      "execution_count": 22,
      "outputs": [
        {
          "output_type": "stream",
          "name": "stdout",
          "text": [
            "name ==> matt\n",
            "cash ==> 99.25\n"
          ]
        }
      ]
    },
    {
      "cell_type": "code",
      "source": [
        "list(range(0, -10, -1))"
      ],
      "metadata": {
        "colab": {
          "base_uri": "https://localhost:8080/"
        },
        "id": "g2O5aZyewkjO",
        "outputId": "c936933e-a5aa-4b0d-8c9b-02053baee18a"
      },
      "execution_count": 24,
      "outputs": [
        {
          "output_type": "execute_result",
          "data": {
            "text/plain": [
              "[0, -1, -2, -3, -4, -5, -6, -7, -8, -9]"
            ]
          },
          "metadata": {},
          "execution_count": 24
        }
      ]
    },
    {
      "cell_type": "code",
      "source": [],
      "metadata": {
        "id": "28tBuymdwkgk"
      },
      "execution_count": null,
      "outputs": []
    },
    {
      "cell_type": "markdown",
      "source": [
        "# **Working with FILES**"
      ],
      "metadata": {
        "id": "krq7-CX2zZyJ"
      }
    },
    {
      "cell_type": "code",
      "source": [
        "fout = open('names.csv', mode='w', encoding='utf8')\n",
        "fout.write('name,age\\n')"
      ],
      "metadata": {
        "colab": {
          "base_uri": "https://localhost:8080/"
        },
        "id": "3Ni3Lw4jwkeC",
        "outputId": "1f95139a-a984-4d69-b84a-9ff9e6852871"
      },
      "execution_count": 25,
      "outputs": [
        {
          "output_type": "execute_result",
          "data": {
            "text/plain": [
              "9"
            ]
          },
          "metadata": {},
          "execution_count": 25
        }
      ]
    },
    {
      "cell_type": "code",
      "source": [
        "fout.write('ratul,27\\n')"
      ],
      "metadata": {
        "colab": {
          "base_uri": "https://localhost:8080/"
        },
        "id": "zeRwm6omwkcE",
        "outputId": "3a122e8d-2528-4ffd-fb61-989fd2354b79"
      },
      "execution_count": 26,
      "outputs": [
        {
          "output_type": "execute_result",
          "data": {
            "text/plain": [
              "9"
            ]
          },
          "metadata": {},
          "execution_count": 26
        }
      ]
    },
    {
      "cell_type": "code",
      "source": [
        "fout.write('sayma,16\\n')"
      ],
      "metadata": {
        "colab": {
          "base_uri": "https://localhost:8080/"
        },
        "id": "eAeTJG7ZwkZf",
        "outputId": "54a51092-4155-4b8b-dc88-5be2bedac391"
      },
      "execution_count": 27,
      "outputs": [
        {
          "output_type": "execute_result",
          "data": {
            "text/plain": [
              "9"
            ]
          },
          "metadata": {},
          "execution_count": 27
        }
      ]
    },
    {
      "cell_type": "code",
      "source": [
        "fout.close()"
      ],
      "metadata": {
        "id": "Oym7DMSYwkXK"
      },
      "execution_count": 28,
      "outputs": []
    },
    {
      "cell_type": "code",
      "source": [
        "##this is the idiomic python way or natural way // automatically close the file for us\n",
        "\n",
        "with open('names.csv', mode='w', encoding='utf8') as fout:\n",
        "  fout.write('name,age\\n')\n",
        "  fout.write('ratul,27\\n')\n",
        "  fout.write('sayma,16\\n')"
      ],
      "metadata": {
        "id": "oRZc-DMywkUe"
      },
      "execution_count": 30,
      "outputs": []
    },
    {
      "cell_type": "code",
      "source": [
        "# fout.write('snigdha,36\\n')"
      ],
      "metadata": {
        "id": "zd7dxpFjwkSK"
      },
      "execution_count": 36,
      "outputs": []
    },
    {
      "cell_type": "code",
      "source": [
        "print(dir(fout))"
      ],
      "metadata": {
        "colab": {
          "base_uri": "https://localhost:8080/"
        },
        "id": "o8Bv0Jp-wkPl",
        "outputId": "d7455c25-9304-476b-a327-c30040abf570"
      },
      "execution_count": 32,
      "outputs": [
        {
          "output_type": "stream",
          "name": "stdout",
          "text": [
            "['_CHUNK_SIZE', '__class__', '__del__', '__delattr__', '__dict__', '__dir__', '__doc__', '__enter__', '__eq__', '__exit__', '__format__', '__ge__', '__getattribute__', '__getstate__', '__gt__', '__hash__', '__init__', '__init_subclass__', '__iter__', '__le__', '__lt__', '__ne__', '__new__', '__next__', '__reduce__', '__reduce_ex__', '__repr__', '__setattr__', '__sizeof__', '__str__', '__subclasshook__', '_checkClosed', '_checkReadable', '_checkSeekable', '_checkWritable', '_finalizing', 'buffer', 'close', 'closed', 'detach', 'encoding', 'errors', 'fileno', 'flush', 'isatty', 'line_buffering', 'mode', 'name', 'newlines', 'read', 'readable', 'readline', 'readlines', 'reconfigure', 'seek', 'seekable', 'tell', 'truncate', 'writable', 'write', 'write_through', 'writelines']\n"
          ]
        }
      ]
    },
    {
      "cell_type": "code",
      "source": [
        "help(fout.write)"
      ],
      "metadata": {
        "colab": {
          "base_uri": "https://localhost:8080/"
        },
        "id": "MM7k6ww4wkNI",
        "outputId": "f3e54a97-23e7-4fef-caab-2e01bed714c4"
      },
      "execution_count": 38,
      "outputs": [
        {
          "output_type": "stream",
          "name": "stdout",
          "text": [
            "Help on built-in function write:\n",
            "\n",
            "write(text, /) method of _io.TextIOWrapper instance\n",
            "    Write string to stream.\n",
            "    Returns the number of characters written (which is always equal to\n",
            "    the length of the string).\n",
            "\n"
          ]
        }
      ]
    },
    {
      "cell_type": "code",
      "source": [
        "fout.write?"
      ],
      "metadata": {
        "id": "QsL5pM4YwkKk"
      },
      "execution_count": 39,
      "outputs": []
    },
    {
      "cell_type": "code",
      "source": [
        "with open('names.csv', encoding='utf8') as fin:\n",
        "  data = fin.read()\n",
        "data"
      ],
      "metadata": {
        "colab": {
          "base_uri": "https://localhost:8080/",
          "height": 35
        },
        "id": "m1iDk1q0wkIO",
        "outputId": "0803692e-1a58-434a-a99c-63aab581a323"
      },
      "execution_count": 40,
      "outputs": [
        {
          "output_type": "execute_result",
          "data": {
            "text/plain": [
              "'name,age\\nratul,27\\nsayma,16\\n'"
            ],
            "application/vnd.google.colaboratory.intrinsic+json": {
              "type": "string"
            }
          },
          "metadata": {},
          "execution_count": 40
        }
      ]
    },
    {
      "cell_type": "code",
      "source": [
        "with open('names.csv', mode='rb') as fin:\n",
        "  one_byte = fin.read(1)\n",
        "  ten_bytes = fin.read(20)\n",
        "one_byte\n"
      ],
      "metadata": {
        "colab": {
          "base_uri": "https://localhost:8080/"
        },
        "id": "Ba0K-spLwkFs",
        "outputId": "6b4cf419-a579-47ee-936e-462391340235"
      },
      "execution_count": 53,
      "outputs": [
        {
          "output_type": "execute_result",
          "data": {
            "text/plain": [
              "b'n'"
            ]
          },
          "metadata": {},
          "execution_count": 53
        }
      ]
    },
    {
      "cell_type": "code",
      "source": [
        "ten_bytes.decode('utf8')"
      ],
      "metadata": {
        "colab": {
          "base_uri": "https://localhost:8080/",
          "height": 35
        },
        "id": "DZqBwNWhwkC6",
        "outputId": "e0cb57c9-a9fc-4c7a-8245-aab5bf3cb331"
      },
      "execution_count": 54,
      "outputs": [
        {
          "output_type": "execute_result",
          "data": {
            "text/plain": [
              "'ame,age\\nratul,27\\nsay'"
            ],
            "application/vnd.google.colaboratory.intrinsic+json": {
              "type": "string"
            }
          },
          "metadata": {},
          "execution_count": 54
        }
      ]
    },
    {
      "cell_type": "code",
      "source": [
        "with open('unigreeting.txt', 'w', encoding='utf8') as fout:\n",
        "  fout.write('Hello \\N{GRINNING FACE}')"
      ],
      "metadata": {
        "id": "Djj8b_TYwkAY"
      },
      "execution_count": 55,
      "outputs": []
    },
    {
      "cell_type": "code",
      "source": [
        "greeting = open('unigreeting.txt', 'r', encoding='utf8').read()\n",
        "greeting"
      ],
      "metadata": {
        "colab": {
          "base_uri": "https://localhost:8080/",
          "height": 35
        },
        "id": "LY7JXJPgwj9r",
        "outputId": "15651ada-3962-49a9-9c3c-15dfde7c2e54"
      },
      "execution_count": 56,
      "outputs": [
        {
          "output_type": "execute_result",
          "data": {
            "text/plain": [
              "'Hello 😀'"
            ],
            "application/vnd.google.colaboratory.intrinsic+json": {
              "type": "string"
            }
          },
          "metadata": {},
          "execution_count": 56
        }
      ]
    },
    {
      "cell_type": "code",
      "source": [
        "greeting = open('unigreeting.txt', 'r', encoding='windows_1252').read()\n",
        "greeting"
      ],
      "metadata": {
        "colab": {
          "base_uri": "https://localhost:8080/",
          "height": 35
        },
        "id": "Age47MWNwj7E",
        "outputId": "e07772e0-975f-4ddf-d3d0-c10637fc5b48"
      },
      "execution_count": 57,
      "outputs": [
        {
          "output_type": "execute_result",
          "data": {
            "text/plain": [
              "'Hello ðŸ˜€'"
            ],
            "application/vnd.google.colaboratory.intrinsic+json": {
              "type": "string"
            }
          },
          "metadata": {},
          "execution_count": 57
        }
      ]
    },
    {
      "cell_type": "code",
      "source": [
        "# greeting = open('unigreeting.txt', 'r', encoding='ascii').read()\n",
        "# greeting"
      ],
      "metadata": {
        "id": "aDxxpJ04wj4h"
      },
      "execution_count": 60,
      "outputs": []
    },
    {
      "cell_type": "code",
      "source": [
        "greeting = open('unigreeting.txt', 'r', encoding='windows_1252').read()\n",
        "greeting"
      ],
      "metadata": {
        "colab": {
          "base_uri": "https://localhost:8080/",
          "height": 35
        },
        "id": "j2IsZZU2qeoT",
        "outputId": "2612a44a-c7c0-4ab7-e570-89cb2bdf40eb"
      },
      "execution_count": 61,
      "outputs": [
        {
          "output_type": "execute_result",
          "data": {
            "text/plain": [
              "'Hello ðŸ˜€'"
            ],
            "application/vnd.google.colaboratory.intrinsic+json": {
              "type": "string"
            }
          },
          "metadata": {},
          "execution_count": 61
        }
      ]
    },
    {
      "cell_type": "code",
      "source": [
        "greeting.encode('windows_1252')"
      ],
      "metadata": {
        "colab": {
          "base_uri": "https://localhost:8080/"
        },
        "id": "3fWecFqSqel3",
        "outputId": "18a3db51-d001-4631-9bdc-99754407b8ef"
      },
      "execution_count": 62,
      "outputs": [
        {
          "output_type": "execute_result",
          "data": {
            "text/plain": [
              "b'Hello \\xf0\\x9f\\x98\\x80'"
            ]
          },
          "metadata": {},
          "execution_count": 62
        }
      ]
    },
    {
      "cell_type": "code",
      "source": [
        "greeting.encode('windows_1252').decode('utf8')"
      ],
      "metadata": {
        "colab": {
          "base_uri": "https://localhost:8080/",
          "height": 35
        },
        "id": "fOYYwuWoqejU",
        "outputId": "481c5bdf-f73b-41bf-f3a1-b251d2271164"
      },
      "execution_count": 63,
      "outputs": [
        {
          "output_type": "execute_result",
          "data": {
            "text/plain": [
              "'Hello 😀'"
            ],
            "application/vnd.google.colaboratory.intrinsic+json": {
              "type": "string"
            }
          },
          "metadata": {},
          "execution_count": 63
        }
      ]
    },
    {
      "cell_type": "code",
      "source": [
        "import encodings\n",
        "print(sorted(encodings.aliases.aliases))\n"
      ],
      "metadata": {
        "colab": {
          "base_uri": "https://localhost:8080/"
        },
        "id": "v0QCQozaqeg8",
        "outputId": "9e710ee9-444d-468a-e185-8e0a5f2c8c42"
      },
      "execution_count": 64,
      "outputs": [
        {
          "output_type": "stream",
          "name": "stdout",
          "text": [
            "['037', '1026', '1125', '1140', '1250', '1251', '1252', '1253', '1254', '1255', '1256', '1257', '1258', '273', '424', '437', '500', '646', '775', '850', '852', '855', '857', '858', '860', '861', '862', '863', '864', '865', '866', '869', '8859', '932', '936', '949', '950', 'ansi', 'ansi_x3.4_1968', 'ansi_x3.4_1986', 'ansi_x3_4_1968', 'arabic', 'asmo_708', 'base64', 'base_64', 'big5_hkscs', 'big5_tw', 'bz2', 'chinese', 'cp1051', 'cp1361', 'cp154', 'cp367', 'cp65001', 'cp819', 'cp866u', 'cp936', 'cp_gr', 'cp_is', 'csHPRoman8', 'csascii', 'csbig5', 'csibm037', 'csibm1026', 'csibm273', 'csibm424', 'csibm500', 'csibm855', 'csibm857', 'csibm858', 'csibm860', 'csibm861', 'csibm863', 'csibm864', 'csibm865', 'csibm866', 'csibm869', 'csiso2022jp', 'csiso2022kr', 'csiso58gb231280', 'csisolatin1', 'csisolatin2', 'csisolatin3', 'csisolatin4', 'csisolatin5', 'csisolatin6', 'csisolatinarabic', 'csisolatincyrillic', 'csisolatingreek', 'csisolatinhebrew', 'cskoi8r', 'cspc775baltic', 'cspc850multilingual', 'cspc862latinhebrew', 'cspc8codepage437', 'cspcp852', 'csptcp154', 'csshiftjis', 'cyrillic', 'cyrillic_asian', 'dbcs', 'ebcdic_cp_be', 'ebcdic_cp_ca', 'ebcdic_cp_ch', 'ebcdic_cp_he', 'ebcdic_cp_nl', 'ebcdic_cp_us', 'ebcdic_cp_wt', 'ecma_114', 'ecma_118', 'elot_928', 'euc_cn', 'euc_jis2004', 'euccn', 'eucgb2312_cn', 'eucjis2004', 'eucjisx0213', 'eucjp', 'euckr', 'gb18030_2000', 'gb2312_1980', 'gb2312_80', 'greek', 'greek8', 'hebrew', 'hex', 'hkscs', 'hz_gb', 'hz_gb_2312', 'hzgb', 'ibm037', 'ibm039', 'ibm1026', 'ibm1051', 'ibm1125', 'ibm1140', 'ibm273', 'ibm367', 'ibm424', 'ibm437', 'ibm500', 'ibm775', 'ibm819', 'ibm850', 'ibm852', 'ibm855', 'ibm857', 'ibm858', 'ibm860', 'ibm861', 'ibm862', 'ibm863', 'ibm864', 'ibm865', 'ibm866', 'ibm869', 'iso2022jp', 'iso2022jp_1', 'iso2022jp_2', 'iso2022jp_2004', 'iso2022jp_3', 'iso2022jp_ext', 'iso2022kr', 'iso646_us', 'iso8859', 'iso8859_1', 'iso_2022_jp', 'iso_2022_jp_1', 'iso_2022_jp_2', 'iso_2022_jp_2004', 'iso_2022_jp_3', 'iso_2022_jp_ext', 'iso_2022_kr', 'iso_646.irv_1991', 'iso_8859_1', 'iso_8859_10', 'iso_8859_10_1992', 'iso_8859_11', 'iso_8859_11_2001', 'iso_8859_13', 'iso_8859_14', 'iso_8859_14_1998', 'iso_8859_15', 'iso_8859_16', 'iso_8859_16_2001', 'iso_8859_1_1987', 'iso_8859_2', 'iso_8859_2_1987', 'iso_8859_3', 'iso_8859_3_1988', 'iso_8859_4', 'iso_8859_4_1988', 'iso_8859_5', 'iso_8859_5_1988', 'iso_8859_6', 'iso_8859_6_1987', 'iso_8859_7', 'iso_8859_7_1987', 'iso_8859_8', 'iso_8859_8_1988', 'iso_8859_9', 'iso_8859_9_1989', 'iso_celtic', 'iso_ir_100', 'iso_ir_101', 'iso_ir_109', 'iso_ir_110', 'iso_ir_126', 'iso_ir_127', 'iso_ir_138', 'iso_ir_144', 'iso_ir_148', 'iso_ir_157', 'iso_ir_166', 'iso_ir_199', 'iso_ir_226', 'iso_ir_58', 'iso_ir_6', 'jisx0213', 'korean', 'ks_c_5601', 'ks_c_5601_1987', 'ks_x_1001', 'ksc5601', 'ksx1001', 'kz_1048', 'l1', 'l10', 'l2', 'l3', 'l4', 'l5', 'l6', 'l7', 'l8', 'l9', 'latin', 'latin1', 'latin10', 'latin2', 'latin3', 'latin4', 'latin5', 'latin6', 'latin7', 'latin8', 'latin9', 'mac_centeuro', 'maccentraleurope', 'maccyrillic', 'macgreek', 'maciceland', 'macintosh', 'maclatin2', 'macroman', 'macturkish', 'ms1361', 'ms932', 'ms936', 'ms949', 'ms950', 'ms_kanji', 'mskanji', 'pt154', 'quopri', 'quoted_printable', 'quotedprintable', 'r8', 'rk1048', 'roman8', 'rot13', 'ruscii', 's_jis', 's_jis_2004', 's_jisx0213', 'shiftjis', 'shiftjis2004', 'shiftjisx0213', 'sjis', 'sjis_2004', 'sjisx0213', 'strk1048_2002', 'thai', 'tis620', 'tis_620_0', 'tis_620_2529_0', 'tis_620_2529_1', 'u16', 'u32', 'u7', 'u8', 'u_jis', 'uhc', 'ujis', 'unicode_1_1_utf_7', 'unicodebigunmarked', 'unicodelittleunmarked', 'us', 'us_ascii', 'utf', 'utf16', 'utf32', 'utf7', 'utf8', 'utf8_ucs2', 'utf8_ucs4', 'utf_16be', 'utf_16le', 'utf_32be', 'utf_32le', 'uu', 'windows_1250', 'windows_1251', 'windows_1252', 'windows_1253', 'windows_1254', 'windows_1255', 'windows_1256', 'windows_1257', 'windows_1258', 'x_mac_japanese', 'x_mac_korean', 'x_mac_simp_chinese', 'x_mac_trad_chinese', 'zip', 'zlib']\n"
          ]
        }
      ]
    },
    {
      "cell_type": "code",
      "source": [],
      "metadata": {
        "id": "17_yR3gqqeeu"
      },
      "execution_count": null,
      "outputs": []
    },
    {
      "cell_type": "code",
      "source": [],
      "metadata": {
        "id": "1V1E_AnQqeca"
      },
      "execution_count": null,
      "outputs": []
    },
    {
      "cell_type": "code",
      "source": [],
      "metadata": {
        "id": "ls6WLlVgqeaM"
      },
      "execution_count": null,
      "outputs": []
    },
    {
      "cell_type": "code",
      "source": [],
      "metadata": {
        "id": "gSG50klJqeXi"
      },
      "execution_count": null,
      "outputs": []
    },
    {
      "cell_type": "code",
      "source": [],
      "metadata": {
        "id": "ZtLPOfXvqeVP"
      },
      "execution_count": null,
      "outputs": []
    },
    {
      "cell_type": "code",
      "source": [],
      "metadata": {
        "id": "KZ1xUWa1wiKd"
      },
      "execution_count": null,
      "outputs": []
    },
    {
      "cell_type": "code",
      "source": [],
      "metadata": {
        "id": "-2OFZwtNwiH7"
      },
      "execution_count": null,
      "outputs": []
    },
    {
      "cell_type": "code",
      "source": [],
      "metadata": {
        "id": "IpIc3kYMwiFZ"
      },
      "execution_count": null,
      "outputs": []
    },
    {
      "cell_type": "code",
      "source": [],
      "metadata": {
        "id": "ASZsBU7dwiCn"
      },
      "execution_count": null,
      "outputs": []
    },
    {
      "cell_type": "code",
      "source": [],
      "metadata": {
        "id": "Lm5nYh1Pwh__"
      },
      "execution_count": null,
      "outputs": []
    },
    {
      "cell_type": "code",
      "source": [],
      "metadata": {
        "id": "xB80KzxLwh9H"
      },
      "execution_count": null,
      "outputs": []
    },
    {
      "cell_type": "code",
      "source": [],
      "metadata": {
        "id": "NOMi3HuOwh6T"
      },
      "execution_count": null,
      "outputs": []
    },
    {
      "cell_type": "code",
      "source": [],
      "metadata": {
        "id": "PfPD-JjDwh4H"
      },
      "execution_count": null,
      "outputs": []
    },
    {
      "cell_type": "code",
      "source": [],
      "metadata": {
        "id": "LZFjHrQ8wh1Z"
      },
      "execution_count": null,
      "outputs": []
    },
    {
      "cell_type": "code",
      "source": [],
      "metadata": {
        "id": "AIpEgcCPwhyr"
      },
      "execution_count": null,
      "outputs": []
    },
    {
      "cell_type": "code",
      "source": [],
      "metadata": {
        "id": "DHnpTb0twhwI"
      },
      "execution_count": null,
      "outputs": []
    },
    {
      "cell_type": "code",
      "source": [],
      "metadata": {
        "id": "rHM8iSWrwhtK"
      },
      "execution_count": null,
      "outputs": []
    },
    {
      "cell_type": "code",
      "source": [],
      "metadata": {
        "id": "6_AJfq1iwhqh"
      },
      "execution_count": null,
      "outputs": []
    },
    {
      "cell_type": "code",
      "source": [],
      "metadata": {
        "id": "kwXH9u_GwhoA"
      },
      "execution_count": null,
      "outputs": []
    },
    {
      "cell_type": "code",
      "source": [],
      "metadata": {
        "id": "t30cP7fxwhli"
      },
      "execution_count": null,
      "outputs": []
    },
    {
      "cell_type": "code",
      "source": [],
      "metadata": {
        "id": "ki0FN1cFwhjL"
      },
      "execution_count": null,
      "outputs": []
    },
    {
      "cell_type": "code",
      "source": [],
      "metadata": {
        "id": "gUS1pX8-whfN"
      },
      "execution_count": null,
      "outputs": []
    },
    {
      "cell_type": "code",
      "source": [],
      "metadata": {
        "id": "tslrmPGdwhbw"
      },
      "execution_count": null,
      "outputs": []
    },
    {
      "cell_type": "code",
      "source": [],
      "metadata": {
        "id": "RwGMC5kCwhZH"
      },
      "execution_count": null,
      "outputs": []
    },
    {
      "cell_type": "code",
      "source": [],
      "metadata": {
        "id": "hziaFXpHwhW_"
      },
      "execution_count": null,
      "outputs": []
    },
    {
      "cell_type": "code",
      "source": [],
      "metadata": {
        "id": "MQc_udv8whUn"
      },
      "execution_count": null,
      "outputs": []
    },
    {
      "cell_type": "code",
      "source": [],
      "metadata": {
        "id": "7I4mDRXuwhSo"
      },
      "execution_count": null,
      "outputs": []
    },
    {
      "cell_type": "code",
      "source": [],
      "metadata": {
        "id": "qgZ6CnNYwhPq"
      },
      "execution_count": null,
      "outputs": []
    },
    {
      "cell_type": "code",
      "source": [],
      "metadata": {
        "id": "CCW0WFfTwhNS"
      },
      "execution_count": null,
      "outputs": []
    },
    {
      "cell_type": "code",
      "source": [],
      "metadata": {
        "id": "1rxEucM0whKt"
      },
      "execution_count": null,
      "outputs": []
    },
    {
      "cell_type": "code",
      "source": [],
      "metadata": {
        "id": "R6SHP_MIwhIp"
      },
      "execution_count": null,
      "outputs": []
    },
    {
      "cell_type": "code",
      "source": [],
      "metadata": {
        "id": "VCwJ-5sywhGO"
      },
      "execution_count": null,
      "outputs": []
    },
    {
      "cell_type": "code",
      "source": [],
      "metadata": {
        "id": "mU0uQ4IFwhD1"
      },
      "execution_count": null,
      "outputs": []
    },
    {
      "cell_type": "code",
      "source": [],
      "metadata": {
        "id": "G57I_QG7whBY"
      },
      "execution_count": null,
      "outputs": []
    }
  ]
}